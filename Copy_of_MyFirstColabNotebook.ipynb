{
  "nbformat": 4,
  "nbformat_minor": 0,
  "metadata": {
    "colab": {
      "provenance": [],
      "authorship_tag": "ABX9TyNCx6cUCNzwUJ4DC1qckl3Z",
      "include_colab_link": true
    },
    "kernelspec": {
      "name": "python3",
      "display_name": "Python 3"
    },
    "language_info": {
      "name": "python"
    }
  },
  "cells": [
    {
      "cell_type": "markdown",
      "metadata": {
        "id": "view-in-github",
        "colab_type": "text"
      },
      "source": [
        "<a href=\"https://colab.research.google.com/github/PrazowlGunner/intro-gispro/blob/main/Copy_of_MyFirstColabNotebook.ipynb\" target=\"_parent\"><img src=\"https://colab.research.google.com/assets/colab-badge.svg\" alt=\"Open In Colab\"/></a>"
      ]
    },
    {
      "cell_type": "markdown",
      "source": [
        "$\\sqrt{3x-1}+ (1+X)^2$\n",
        "$e^x = \\sum_{i=0}^\\infty \\frac{1}{i!}x^i$\n",
        "\n"
      ],
      "metadata": {
        "id": "simmbQbMY1x1"
      }
    },
    {
      "cell_type": "markdown",
      "source": [
        "$3x_1 + 6x_2 + x_3 =< 28$\n"
      ],
      "metadata": {
        "id": "jtMdXd3TZrRV"
      }
    },
    {
      "cell_type": "markdown",
      "source": [
        "$x_1,x_2,x_3 >=0 $\n"
      ],
      "metadata": {
        "id": "xDsC4ZwZZ1sl"
      }
    },
    {
      "cell_type": "markdown",
      "source": [
        " $7x_1 + 3x_2 + 2x_3 =< 37$\n"
      ],
      "metadata": {
        "id": "KZ8QNUC8Z7jO"
      }
    },
    {
      "cell_type": "markdown",
      "source": [
        "- $u_i(t) = x_i(t) + \\beta(\\hat{x}(t)  x_i(t)) + \\beta \\sum_{k = 1}^{n_v}(x_{i1,k}(t)  x_{i2,k}(t))$\n"
      ],
      "metadata": {
        "id": "Yete6rDHZ93Y"
      }
    },
    {
      "cell_type": "markdown",
      "source": [
        "$x ∈ [-5, 5]$\n"
      ],
      "metadata": {
        "id": "tHu_QzUvaCo_"
      }
    },
    {
      "cell_type": "markdown",
      "source": [
        ">$A_{m,n} =\n",
        "   \\begin{pmatrix}\n",
        "   a_{1,1} > a_{1,2} > \\cdots > a_{1,n} \\\\\n",
        "   a_{2,1} > a_{2,2} > \\cdots > a_{2,n} \\\\\n",
        "   \\vdots > \\vdots > \\ddots > \\vdots \\\\\n",
        "   a_{m,1} > a_{m,2} > \\cdots > a_{m,n}\n",
        "   \\end{pmatrix}$\n",
        "   "
      ],
      "metadata": {
        "id": "Jqv-e3YVaFYq"
      }
    }
  ]
}